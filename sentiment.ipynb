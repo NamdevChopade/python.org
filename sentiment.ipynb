{
 "cells": [
  {
   "cell_type": "code",
   "execution_count": 9,
   "metadata": {},
   "outputs": [],
   "source": [
    "from textblob import TextBlob"
   ]
  },
  {
   "cell_type": "code",
   "execution_count": 10,
   "metadata": {},
   "outputs": [],
   "source": [
    "# Polarity/ sentiment -->  -1 to 1\n",
    "# -1 extremely -ve 1- extremely +ve 0 means neutral\n",
    "#  subjectivity -- 0 to 1\n",
    "# 0 --> Fact \n",
    "# 1 --- Opinion"
   ]
  },
  {
   "cell_type": "code",
   "execution_count": 11,
   "metadata": {},
   "outputs": [],
   "source": [
    "review = \"This product is of good quality.\"\n",
    "review1 = \"This product is of ok quality.\"\n",
    "review2 = \"This girl looks lovely.\"\n",
    "review3 = \"This product is of bad quality.\"\n",
    "# Sentiment, Fact or opinion\n",
    "senti = TextBlob(review3)"
   ]
  },
  {
   "cell_type": "code",
   "execution_count": 4,
   "metadata": {},
   "outputs": [
    {
     "data": {
      "text/plain": [
       "-0.6999999999999998"
      ]
     },
     "execution_count": 4,
     "metadata": {},
     "output_type": "execute_result"
    }
   ],
   "source": [
    "senti.polarity"
   ]
  },
  {
   "cell_type": "code",
   "execution_count": 5,
   "metadata": {},
   "outputs": [
    {
     "data": {
      "text/plain": [
       "0.6666666666666666"
      ]
     },
     "execution_count": 5,
     "metadata": {},
     "output_type": "execute_result"
    }
   ],
   "source": [
    "senti.subjectivity"
   ]
  },
  {
   "cell_type": "code",
   "execution_count": 12,
   "metadata": {},
   "outputs": [],
   "source": [
    "review = \"This product is of good quality.\"\n",
    "review1 = \"This product is of ok quality.\"\n",
    "review2 = \"This girl looks lovely.\"\n",
    "review3 = \"This product is of bad quality.\"\n",
    "# Sentiment, Fact or opinion\n",
    "senti = TextBlob(review2)"
   ]
  },
  {
   "cell_type": "code",
   "execution_count": 13,
   "metadata": {},
   "outputs": [
    {
     "data": {
      "text/plain": [
       "0.5"
      ]
     },
     "execution_count": 13,
     "metadata": {},
     "output_type": "execute_result"
    }
   ],
   "source": [
    "senti.polarity"
   ]
  },
  {
   "cell_type": "code",
   "execution_count": 8,
   "metadata": {},
   "outputs": [
    {
     "data": {
      "text/plain": [
       "0.75"
      ]
     },
     "execution_count": 8,
     "metadata": {},
     "output_type": "execute_result"
    }
   ],
   "source": [
    "senti.subjectivity"
   ]
  },
  {
   "cell_type": "code",
   "execution_count": 14,
   "metadata": {},
   "outputs": [],
   "source": [
    "review = \"This product is of good quality.\"\n",
    "review1 = \"This product is of ok quality.\"\n",
    "review2 = \"This girl looks lovely.\"\n",
    "review3 = \"This product is of bad quality.\"\n",
    "# Sentiment, Fact or opinion\n",
    "senti = TextBlob(review1)"
   ]
  },
  {
   "cell_type": "code",
   "execution_count": 15,
   "metadata": {},
   "outputs": [
    {
     "data": {
      "text/plain": [
       "0.5"
      ]
     },
     "execution_count": 15,
     "metadata": {},
     "output_type": "execute_result"
    }
   ],
   "source": [
    "senti.polarity"
   ]
  },
  {
   "cell_type": "code",
   "execution_count": 12,
   "metadata": {
    "scrolled": true
   },
   "outputs": [
    {
     "data": {
      "text/plain": [
       "0.5"
      ]
     },
     "execution_count": 12,
     "metadata": {},
     "output_type": "execute_result"
    }
   ],
   "source": [
    "senti.subjectivity"
   ]
  },
  {
   "cell_type": "code",
   "execution_count": 13,
   "metadata": {},
   "outputs": [],
   "source": [
    "review = \"This product is of good quality.\"\n",
    "review1 = \"This product is of ok quality.\"\n",
    "review2 = \"This girl looks lovely.\"\n",
    "review3 = \"This product is of bad quality.\"\n",
    "# Sentiment, Fact or opinion\n",
    "senti = TextBlob(review)"
   ]
  },
  {
   "cell_type": "code",
   "execution_count": 14,
   "metadata": {},
   "outputs": [
    {
     "data": {
      "text/plain": [
       "0.7"
      ]
     },
     "execution_count": 14,
     "metadata": {},
     "output_type": "execute_result"
    }
   ],
   "source": [
    "senti.polarity"
   ]
  },
  {
   "cell_type": "code",
   "execution_count": 15,
   "metadata": {},
   "outputs": [
    {
     "data": {
      "text/plain": [
       "0.6000000000000001"
      ]
     },
     "execution_count": 15,
     "metadata": {},
     "output_type": "execute_result"
    }
   ],
   "source": [
    "senti.subjectivity"
   ]
  },
  {
   "cell_type": "code",
   "execution_count": 6,
   "metadata": {},
   "outputs": [],
   "source": [
    "import matplotlib.pyplot as plt  \n",
    "%matplotlib inline"
   ]
  },
  {
   "cell_type": "code",
   "execution_count": 16,
   "metadata": {},
   "outputs": [
    {
     "data": {
      "text/plain": [
       "Text(0, 0.5, '<-- Facts -------- Opinions -->')"
      ]
     },
     "execution_count": 16,
     "metadata": {},
     "output_type": "execute_result"
    },
    {
     "data": {
      "image/png": "[encoded data removed]",
      "text/plain": [
       "<Figure size 432x288 with 1 Axes>"
      ]
     },
     "metadata": {
      "needs_background": "light"
     },
     "output_type": "display_data"
    }
   ],
   "source": [
    "reviews=[\"Good\", \"Very Good\",\"Not good\", \"Excellent\"]\n",
    "c = [\"red\",\"green\",\"blue\",\"black\"]\n",
    "i = 0\n",
    "for index  in reviews:\n",
    "    #print(index)\n",
    "    index=TextBlob(index)\n",
    "    x = index.sentiment.polarity\n",
    "    y = index.sentiment.subjectivity\n",
    "    \n",
    "    plt.scatter(x, y, color=c[i])\n",
    "    i +=1\n",
    "    \n",
    "plt.title('Sentiment Analysis', fontsize=20)\n",
    "plt.xlabel('<-- Negative -------- Positive -->', fontsize=15)\n",
    "plt.ylabel('<-- Facts -------- Opinions -->', fontsize=15)"
   ]
  },
  {
   "cell_type": "code",
   "execution_count": 17,
   "metadata": {},
   "outputs": [
    {
     "data": {
      "text/plain": [
       "Text(0, 0.5, '<-- Facts -------- Opinions -->')"
      ]
     },
     "execution_count": 17,
     "metadata": {},
     "output_type": "execute_result"
    },
    {
     "data": {
      "image/png": "[encoded data removed]",
      "text/plain": [
       "<Figure size 432x288 with 1 Axes>"
      ]
     },
     "metadata": {
      "needs_background": "light"
     },
     "output_type": "display_data"
    }
   ],
   "source": [
    "reviews=[\"Good\", \"Very Good\",\"Not good\", \"Excellent\"]\n",
    "c = [\"red\",\"green\",\"blue\",\"black\"]\n",
    "senti = []\n",
    "subject = []\n",
    "for index  in reviews:\n",
    "    #print(index)\n",
    "    index=TextBlob(index)\n",
    "    x = index.sentiment.polarity\n",
    "    y = index.sentiment.subjectivity\n",
    "    senti.append(x)\n",
    "    subject.append(y)\n",
    "\n",
    "plt.scatter(senti, subject, c=senti, cmap='viridis')   \n",
    "plt.title('Sentiment Analysis', fontsize=20)\n",
    "plt.xlabel('<-- Negative -------- Positive -->', fontsize=15)\n",
    "plt.ylabel('<-- Facts -------- Opinions -->', fontsize=15)"
   ]
  },
  {
   "cell_type": "code",
   "execution_count": null,
   "metadata": {},
   "outputs": [],
   "source": []
  },
  {
   "cell_type": "code",
   "execution_count": null,
   "metadata": {},
   "outputs": [],
   "source": []
  },
  {
   "cell_type": "code",
   "execution_count": 1,
   "metadata": {},
   "outputs": [],
   "source": [
    "from wordcloud import WordCloud, STOPWORDS \n",
    "import matplotlib.pyplot as plt \n",
    "%matplotlib inline"
   ]
  },
  {
   "cell_type": "code",
   "execution_count": 22,
   "metadata": {},
   "outputs": [],
   "source": [
    "content = \"Iran says the U.S. drone was flying over southern Iran. \\\n",
    "            Washington said it was downed in international airspace over the \\\n",
    "            Strait of Hormuz in the Gulf. Mr. Trump said that the sanctions \\\n",
    "            were in part a response to the shooting down of the drone, \\\n",
    "            but would have happened anyway. The latest sanctions are aimed \\\n",
    "            at denying Irans leadership access to financial resources, \\\n",
    "            blocking them from using the United States financial system or \\\n",
    "            having access to any assets in the United States. \\\n",
    "            Iran and the United States have been at odds since \\\n",
    "            last year when Trump withdrew from a 2015 nuclear deal between \\\n",
    "            Iran and major powers and reimposed sanctions on it. Khamenei is \\\n",
    "            Iran's utmost authority who has the last say on all state matters. \\\n",
    "            Iran would not accept talks with the United States while it is \\\n",
    "            under the threat of sanctions, Iranian ambassador to the United \\\n",
    "            Nations, Majid Takht Ravanchi, told reporters in New York.\""
   ]
  },
  {
   "cell_type": "code",
   "execution_count": 23,
   "metadata": {},
   "outputs": [
    {
     "data": {
      "image/png": "[encoded data removed]",
      "text/plain": [
       "<Figure size 432x288 with 1 Axes>"
      ]
     },
     "metadata": {
      "needs_background": "light"
     },
     "output_type": "display_data"
    }
   ],
   "source": [
    "# 'viridis', 'plasma', 'inferno', 'magma', 'cividis'\n",
    "\"\"\"'Greys', 'Purples', 'Blues', 'Greens', 'Oranges', 'Reds',\n",
    "            'YlOrBr', 'YlOrRd', 'OrRd', 'PuRd', 'RdPu', 'BuPu',\n",
    "            'GnBu', 'PuBu', 'YlGnBu', 'PuBuGn', 'BuGn', 'YlGn'\"\"\"\n",
    "stopwords = set(STOPWORDS) \n",
    "wordcloud = WordCloud(stopwords=None,colormap = 'Reds',\n",
    "                      background_color='white').generate(content) \n",
    "#wordcloud.to_image()\n",
    "plt.imshow(wordcloud) \n",
    "plt.axis(\"off\");\n",
    "#plt.savefig(\"1.png\")"
   ]
  },
  {
   "cell_type": "code",
   "execution_count": null,
   "metadata": {},
   "outputs": [],
   "source": []
  }
 ],
 "metadata": {
  "kernelspec": {
   "display_name": "Python 3",
   "language": "python",
   "name": "python3"
  },
  "language_info": {
   "codemirror_mode": {
    "name": "ipython",
    "version": 3
   },
   "file_extension": ".py",
   "mimetype": "text/x-python",
   "name": "python",
   "nbconvert_exporter": "python",
   "pygments_lexer": "ipython3",
   "version": "3.7.3"
  }
 },
 "nbformat": 4,
 "nbformat_minor": 2
}
